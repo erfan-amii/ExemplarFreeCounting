{
 "cells": [
  {
   "cell_type": "code",
   "execution_count": null,
   "metadata": {},
   "outputs": [],
   "source": [
    "import json\n",
    "import numpy as np\n",
    "import os\n",
    "import random\n",
    "import time\n",
    "import torch\n",
    "import torch.nn as nn\n",
    "import torch.optim as optim\n",
    "import torch.nn.functional as F\n",
    "from torchvision import transforms\n",
    "from torchvision.ops import box_iou\n",
    "import sys\n",
    "from collections import OrderedDict"
   ]
  },
  {
   "cell_type": "code",
   "execution_count": null,
   "metadata": {},
   "outputs": [],
   "source": [
    "class Resnet50FPN(nn.Module):\n",
    "    def __init__(self):\n",
    "        super(Resnet50FPN, self).__init__()\n",
    "        self.resnet = torchvision.models.resnet50(pretrained=True)\n",
    "        for param in self.resnet.parameters():\n",
    "            param.requires_grad = False\n",
    "        children = list(self.resnet.children())\n",
    "        self.conv1 = nn.Sequential(*children[:4])\n",
    "        self.conv2 = children[4]\n",
    "        self.conv3 = children[5]\n",
    "        self.conv4 = children[6]\n",
    "        #self.conv5 = children[7]\n",
    "    def forward(self, im_data):\n",
    "        feat = OrderedDict()\n",
    "        feat_map1 = self.conv1(im_data)\n",
    "        feat_map1 = self.conv2(feat_map1)\n",
    "        feat_map3 = self.conv3(feat_map1)\n",
    "        feat_map4 = self.conv4(feat_map3)\n",
    "        #feat_map5 = self.conv5(feat_map4)\n",
    "        #feat['map1'] = feat_map1\n",
    "        #feat['map2'] = feat_map2\n",
    "        feat['map3'] = feat_map3\n",
    "        feat['map4'] = feat_map4\n",
    "        #feat['map5'] = feat_map5\n",
    "        return feat"
   ]
  },
  {
   "cell_type": "code",
   "execution_count": null,
   "metadata": {},
   "outputs": [],
   "source": [
    "resnet50_conv = Resnet50FPN()\n",
    "resnet50_conv = nn.DataParallel(resnet50_conv)\n",
    "resnet50_conv.cuda()\n",
    "resnet50_conv.eval()"
   ]
  },
  {
   "cell_type": "code",
   "execution_count": null,
   "metadata": {},
   "outputs": [],
   "source": [
    "#TRACED THE CODE, The following code is not provided\n",
    "from utilsA import extract_features,extract_featuresManifoldMixup\n",
    "\n",
    "#link: https://github.com/Viresh-R/ExemplarFreeCounting/blob/main/train.py\n",
    "\n",
    "#the file is in train.py and the function is in utilsA which is not uploaded."
   ]
  }
 ],
 "metadata": {
  "language_info": {
   "name": "python"
  }
 },
 "nbformat": 4,
 "nbformat_minor": 2
}
